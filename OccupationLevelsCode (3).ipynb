{
 "cells": [
  {
   "cell_type": "code",
   "execution_count": 7,
   "metadata": {},
   "outputs": [
    {
     "name": "stdout",
     "output_type": "stream",
     "text": [
      "Enter the energy value: 10\n",
      "Enter the number of molecules: 4\n",
      "Here are all of the configurations: \n",
      "[(1, 1, 1, 7), (1, 3, 3, 3), (1, 1, 3, 5), (2, 2, 3, 3), (1, 2, 2, 5), (2, 2, 2, 4), (1, 2, 3, 4), (1, 1, 4, 4), (1, 1, 2, 6)]\n",
      "\n",
      "Here are the total number of configurations:\n",
      "9\n",
      "\n",
      "[1, 1, 1, 7, 1, 3, 3, 3, 1, 1, 3, 5, 2, 2, 3, 3, 1, 2, 2, 5, 2, 2, 2, 4, 1, 2, 3, 4, 1, 1, 4, 4, 1, 1, 2, 6]\n",
      "\n",
      "Here are the number of states for each configuration:\n",
      "[4.0, 4.0, 12.0, 6.0, 12.0, 4.0, 24.0, 6.0, 12.0]\n",
      "\n",
      "Here is the sum of all of the states:\n",
      "84.0\n",
      "\n",
      "Here are the probabilities of each configuration:\n",
      "[0.047619047619047616, 0.047619047619047616, 0.14285714285714285, 0.07142857142857142, 0.14285714285714285, 0.047619047619047616, 0.2857142857142857, 0.07142857142857142, 0.14285714285714285]\n",
      "\n",
      "Here are the expectation values of the levels (in order):\n",
      "[1.3333333333333335, 1.0, 0.7142857142857142, 0.47619047619047616, 0.2857142857142857, 0.14285714285714285, 0.047619047619047616, 0.0, 0.0, 0.0]\n"
     ]
    },
    {
     "data": {
      "image/png": "[encoded data removed]",
      "text/plain": [
       "<Figure size 432x288 with 1 Axes>"
      ]
     },
     "metadata": {
      "needs_background": "light"
     },
     "output_type": "display_data"
    },
    {
     "data": {
      "image/png": "[encoded data removed]",
      "text/plain": [
       "<Figure size 432x288 with 1 Axes>"
      ]
     },
     "metadata": {
      "needs_background": "light"
     },
     "output_type": "display_data"
    }
   ],
   "source": [
    "from sympy.abc import x, y \n",
    "import sympy as sp\n",
    "import numpy as np\n",
    "import matplotlib.pyplot as plt\n",
    "\n",
    "\n",
    "energy = int(input(\"Enter the energy value: \"))\n",
    "molec = int(input(\"Enter the number of molecules: \"))\n",
    "\n",
    "def partition(number):\n",
    "        answer = set()\n",
    "        answer.add((number,))\n",
    "        for x in range(1, number):\n",
    "            for y in partition(number - x):\n",
    "                answer.add(tuple(sorted((x, ) + y)))\n",
    "        return answer\n",
    "totPart = list(partition(energy))  \n",
    "store = []\n",
    "\n",
    "for x in range(0, len(totPart)):\n",
    "    if (len(totPart[x]) == molec):\n",
    "        store.append(totPart[x])\n",
    "print('Here are all of the configurations: ') \n",
    "print (store)\n",
    "print(\"\")\n",
    "print ('Here are the total number of configurations:') \n",
    "print (len(store))\n",
    "print(\"\")\n",
    "\n",
    "\n",
    "storeNew = []\n",
    "\n",
    "for x in store:\n",
    "    storeNew.extend(x[:5])\n",
    "\n",
    "print (storeNew)\n",
    "print(\"\")\n",
    "\n",
    "z1 = 0\n",
    "z2 = 1\n",
    "z3 = 2\n",
    "z4 = 3\n",
    "state = 24\n",
    "repeat = 1\n",
    "states = []\n",
    "\n",
    "while (z4 < len(storeNew)):\n",
    "    if (storeNew[z1]==storeNew[z2])and (storeNew[z2]==storeNew[z3]) and (storeNew[z3]==storeNew[z4]):\n",
    "        repeat = 24\n",
    "    \n",
    "    elif (storeNew[z1]!=storeNew[z2]) and (storeNew[z2]!=storeNew[z3]) and (storeNew[z3]!= storeNew[z4]):\n",
    "        repeat = 1\n",
    "    \n",
    "    elif (storeNew[z1]==storeNew[z2]) and (storeNew[z2]!=storeNew[z3]) and (storeNew[z3]!= storeNew[z4]):\n",
    "        repeat = 2\n",
    "    \n",
    "    elif (storeNew[z1]!=storeNew[z2]) and (storeNew[z2]==storeNew[z3]) and (storeNew[z3]!= storeNew[z4]):\n",
    "        repeat = 2\n",
    "    \n",
    "    elif (storeNew[z1]!=storeNew[z2]) and (storeNew[z2]!=storeNew[z3]) and (storeNew[z3]== storeNew[z4]):\n",
    "        repeat = 2\n",
    "        \n",
    "    elif (storeNew[z1]==storeNew[z2]) and (storeNew[z2]!=storeNew[z3]) and (storeNew[z3]== storeNew[z4]):\n",
    "        repeat = 4\n",
    "        \n",
    "    elif (storeNew[z1]==storeNew[z2]) and (storeNew[z2]==storeNew[z3]) and (storeNew[z3]!= storeNew[z4]):\n",
    "        repeat = 6\n",
    "        \n",
    "    elif (storeNew[z1]!=storeNew[z2]) and (storeNew[z2]==storeNew[z3]) and (storeNew[z3]== storeNew[z4]):\n",
    "        repeat = 6\n",
    "\n",
    "    states.append(state/repeat)\n",
    "    z1 = z1 + 4\n",
    "    z2 = z2 + 4\n",
    "    z3 = z3 + 4\n",
    "    z4 = z4 + 4\n",
    "\n",
    "print ('Here are the number of states for each configuration:' )\n",
    "print (states)\n",
    "print(\"\")\n",
    "\n",
    "totalStates = 0\n",
    "for x in states:\n",
    "    totalStates = totalStates + x\n",
    "print ('Here is the sum of all of the states:') \n",
    "print (totalStates)\n",
    "print(\"\")\n",
    "\n",
    "probabilities = []\n",
    "probability = 0\n",
    "for x in states:\n",
    "    probability = (float(x)/totalStates)\n",
    "    probabilities.append(probability)\n",
    "print ('Here are the probabilities of each configuration:') \n",
    "print (probabilities)\n",
    "print(\"\")\n",
    "\n",
    "n = 0;\n",
    "a1 = 0\n",
    "a2 = 1\n",
    "a3 = 2\n",
    "a4 = 3\n",
    "counter = 0\n",
    "summ = 0\n",
    "index = 0\n",
    "expectation = []\n",
    "\n",
    "while n < energy :\n",
    "    n = n + 1\n",
    "    while (a4 < len(storeNew)) :\n",
    "        if (storeNew[a1] == n):\n",
    "            counter = counter + 1\n",
    "        if (storeNew[a2] == n):\n",
    "            counter = counter + 1\n",
    "        if (storeNew[a3] == n):\n",
    "            counter = counter + 1\n",
    "        if (storeNew[a4] == n):\n",
    "            counter = counter + 1\n",
    "        summ = summ + (counter*float(probabilities[index]))\n",
    "        a1 = a1 + 4\n",
    "        a2 = a2 + 4\n",
    "        a3 = a3 + 4\n",
    "        a4 = a4 + 4\n",
    "        index = index + 1\n",
    "        counter = 0\n",
    "    expectation.append(summ)\n",
    "    a1 = 0\n",
    "    a2 = 1\n",
    "    a3 = 2\n",
    "    a4 = 3\n",
    "    summ = 0\n",
    "    index = 0\n",
    "    \n",
    "print ('Here are the expectation values of the levels (in order):' )\n",
    "print (expectation)\n",
    "\n",
    "xAxis = []\n",
    "for x in range(1,energy+1):\n",
    "    xAxis.append(x)\n",
    "    \n",
    "plt.plot(xAxis, expectation)\n",
    "plt.title('E = '+str(energy))\n",
    "plt.xlabel('Energy Level')\n",
    "plt.ylabel('Population Level')\n",
    "plt.show()\n",
    "\n",
    "plt.plot(xAxis, expectation)\n",
    "plt.yscale('log')\n",
    "plt.title('E = '+str(energy) +' (logscale)')\n",
    "plt.xlabel('Energy Level')\n",
    "plt.ylabel('Population Level')\n",
    "plt.show()\n"
   ]
  },
  {
   "cell_type": "code",
   "execution_count": 23,
   "metadata": {},
   "outputs": [
    {
     "data": {
      "text/plain": [
       "[<matplotlib.lines.Line2D at 0x11d4d4050>]"
      ]
     },
     "execution_count": 23,
     "metadata": {},
     "output_type": "execute_result"
    },
    {
     "data": {
      "image/png": "[encoded data removed]",
      "text/plain": [
       "<Figure size 432x288 with 1 Axes>"
      ]
     },
     "metadata": {},
     "output_type": "display_data"
    }
   ],
   "source": [
    "import matplotlib.pyplot as plt\n",
    "\n",
    "plt.plot([1,2,3,4,5,6,7,8,9,10],[1.3333333333333335, 1.0, 0.7142857142857142, 0.47619047619047616, 0.2857142857142857, 0.14285714285714285, 0.047619047619047616, 0.0, 0.0, 0.0] )"
   ]
  },
  {
   "cell_type": "code",
   "execution_count": null,
   "metadata": {},
   "outputs": [],
   "source": []
  }
 ],
 "metadata": {
  "kernelspec": {
   "display_name": "Python 3",
   "language": "python",
   "name": "python3"
  },
  "language_info": {
   "codemirror_mode": {
    "name": "ipython",
    "version": 3
   },
   "file_extension": ".py",
   "mimetype": "text/x-python",
   "name": "python",
   "nbconvert_exporter": "python",
   "pygments_lexer": "ipython3",
   "version": "3.6.8"
  }
 },
 "nbformat": 4,
 "nbformat_minor": 2
}
